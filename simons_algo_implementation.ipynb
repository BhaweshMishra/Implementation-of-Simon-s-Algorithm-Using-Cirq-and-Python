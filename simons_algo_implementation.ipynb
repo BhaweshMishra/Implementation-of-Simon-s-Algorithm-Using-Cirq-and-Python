{
 "cells": [
  {
   "cell_type": "code",
   "execution_count": null,
   "metadata": {},
   "outputs": [],
   "source": [
    "# About the author\n",
    "# Bhawesh Mishra\n",
    "# 3rd year Undergraduate student at VIT, Vellore\n",
    "# LinkedIn: https://www.linkedin.com/in/bhawesh-mishra-410398210/\n",
    "# GitHub: https://github.com/BhaweshMishra"
   ]
  },
  {
   "cell_type": "code",
   "execution_count": 5,
   "metadata": {},
   "outputs": [],
   "source": [
    "# Importing the modules\n",
    "import cirq\n",
    "import numpy as np"
   ]
  },
  {
   "cell_type": "code",
   "execution_count": 115,
   "metadata": {},
   "outputs": [],
   "source": [
    "# Defining the function to generate a quantum gate matrix based on truth table\n",
    "# Refer https://github.com/BhaweshMishra/Quantum-gate-matrix-generator\n",
    "\n",
    "def truth_table_to_quantum_gate_matrix(fx):\n",
    "      input_bits = len(list(fx.keys())[0])\n",
    "      output_bits = len(fx[list(fx.keys())[0]])\n",
    "      formated_string = '{:0'+str(input_bits+output_bits)+'b}'    #formatting for input bits\n",
    "      formated_string_out = '{:0'+str(output_bits)+'b}'           #formatting for ouput bits  \n",
    "      fx1 = {}                                                    #Dictionary to store new values including redundant qubits\n",
    "      for i in range(0,2**(input_bits+output_bits)):\n",
    "            inputstr = formated_string.format(i)\n",
    "            outputstr1 = inputstr[0:input_bits]\n",
    "            fxout = int(fx[inputstr[0:input_bits]],2)\n",
    "            \n",
    "            toxor = int(inputstr[input_bits:],2)\n",
    "            xored = fxout^toxor\n",
    "            xored_formated = formated_string_out.format(xored)\n",
    "            outputstr = outputstr1 + xored_formated\n",
    "            fx1[inputstr]=outputstr\n",
    "\n",
    "\n",
    "      mat = np.zeros((2**(input_bits+output_bits),2**(input_bits+output_bits)))\n",
    "      for i in fx1:\n",
    "            matindex = int(i,2)\n",
    "            matindexout = int(fx1[i],2)\n",
    "            mat[matindex][matindexout] = 1\n",
    "\n",
    "\n",
    "      mat = mat.transpose()\n",
    "      return mat\n",
    "\n",
    "\n",
    "\n"
   ]
  },
  {
   "cell_type": "code",
   "execution_count": 116,
   "metadata": {},
   "outputs": [
    {
     "data": {
      "text/plain": [
       "array([[1., 0., 0., ..., 0., 0., 0.],\n",
       "       [0., 1., 0., ..., 0., 0., 0.],\n",
       "       [0., 0., 1., ..., 0., 0., 0.],\n",
       "       ...,\n",
       "       [0., 0., 0., ..., 0., 0., 0.],\n",
       "       [0., 0., 0., ..., 0., 0., 1.],\n",
       "       [0., 0., 0., ..., 0., 1., 0.]])"
      ]
     },
     "execution_count": 116,
     "metadata": {},
     "output_type": "execute_result"
    }
   ],
   "source": [
    "\n",
    "# The truth table defined for the function\n",
    "# Secret String (s) = 101\n",
    "fx = {\n",
    "    '000':'000',\n",
    "    '001':'010',\n",
    "    '010':'001',\n",
    "    '011':'100',\n",
    "    '100':'010',\n",
    "    '101':'000',\n",
    "    '110':'100',\n",
    "    '111':'001',\n",
    "    }\n",
    "\n",
    "\n",
    "QGM = truth_table_to_quantum_gate_matrix(fx)\n",
    "QGM\n",
    "# QGM is the generated gate matrix"
   ]
  },
  {
   "cell_type": "code",
   "execution_count": 117,
   "metadata": {},
   "outputs": [],
   "source": [
    "# Implementating the gate to use in the quantum circuit\n",
    "\n",
    "class U(cirq.Gate):\n",
    "    def __init__(self):\n",
    "        super(U, self)\n",
    "\n",
    "    def _num_qubits_(self):\n",
    "        return 6\n",
    "\n",
    "    def _unitary_(self):\n",
    "        return QGM\n",
    "\n",
    "    def _circuit_diagram_info_(self, args):\n",
    "        return \"u\",\"u\",\"u\",\"u\",\"u\",\"u\"\n",
    "\n",
    "Uu = U()\n",
    "\n"
   ]
  },
  {
   "cell_type": "code",
   "execution_count": 118,
   "metadata": {},
   "outputs": [
    {
     "data": {
      "text/html": [
       "<pre style=\"overflow: auto; white-space: pre;\">0: ───H───u─────────────H───M(&#x27;b0&#x27;)───\n",
       "          │\n",
       "1: ───H───u─────────────H───M(&#x27;b1&#x27;)───\n",
       "          │\n",
       "2: ───H───u─────────────H───M(&#x27;b2&#x27;)───\n",
       "          │\n",
       "3: ───────u───M(&#x27;a3&#x27;)─────────────────\n",
       "          │\n",
       "4: ───────u───M(&#x27;a4&#x27;)─────────────────\n",
       "          │\n",
       "5: ───────u───M(&#x27;a5&#x27;)─────────────────</pre>"
      ],
      "text/plain": [
       "0: ───H───u─────────────H───M('b0')───\n",
       "          │\n",
       "1: ───H───u─────────────H───M('b1')───\n",
       "          │\n",
       "2: ───H───u─────────────H───M('b2')───\n",
       "          │\n",
       "3: ───────u───M('a3')─────────────────\n",
       "          │\n",
       "4: ───────u───M('a4')─────────────────\n",
       "          │\n",
       "5: ───────u───M('a5')─────────────────"
      ]
     },
     "execution_count": 118,
     "metadata": {},
     "output_type": "execute_result"
    }
   ],
   "source": [
    "# Building the quantum circuit\n",
    "\n",
    "q = cirq.LineQubit.range(6)\n",
    "mycirq = cirq.Circuit()\n",
    "moment0 = cirq.Moment([cirq.H(q[i]) for i in range(6) if i <3])\n",
    "moment1 = cirq.Moment([cirq.measure(q[i],key='a'+str(i)) for i in range(6) if i>2])\n",
    "moment2 = [cirq.measure(q[i],key='b'+str(i)) for i in range(6) if i<3]\n",
    "moment3 = [cirq.H(q[i]) for i in range(6) if i<3]\n",
    "mycirq.append([moment0, Uu(*q), moment1, moment0, moment2])\n",
    "\n",
    "\n",
    "mycirq"
   ]
  },
  {
   "cell_type": "code",
   "execution_count": 119,
   "metadata": {},
   "outputs": [
    {
     "data": {
      "text/plain": [
       "a3=0010000101\n",
       "a4=0000010000\n",
       "a5=0000001000\n",
       "b0=1010011101\n",
       "b1=0100100010\n",
       "b2=1010011101"
      ]
     },
     "execution_count": 119,
     "metadata": {},
     "output_type": "execute_result"
    }
   ],
   "source": [
    "# Simulating the results\n",
    "sim = cirq.Simulator()\n",
    "result = sim.run(mycirq,repetitions=10)\n",
    "result\n",
    "\n",
    "# You can manually check the result. The quantum circuit is run 10 times in this cell.\n",
    "# In the real implementation, the quantum circuit does not need to be run 10 times.\n",
    "#\n",
    "# If the number of input qubits are n, the circuit needs to be run approximately n \n",
    "# times to obtain n simulataneous equations"
   ]
  },
  {
   "cell_type": "code",
   "execution_count": 129,
   "metadata": {},
   "outputs": [
    {
     "data": {
      "text/plain": [
       "array([[1, 0, 1],\n",
       "       [0, 1, 0],\n",
       "       [1, 1, 1]], dtype=int8)"
      ]
     },
     "execution_count": 129,
     "metadata": {},
     "output_type": "execute_result"
    }
   ],
   "source": [
    "# Since the unknown string is 3 bit, 3 simultaneous equations are required\n",
    "no_of_equations = 3\n",
    "eq_list = []\n",
    "while (no_of_equations > 0):\n",
    "    result = sim.run(mycirq,repetitions=1)\n",
    "    result_dict = result.measurements\n",
    "    np_arr = [result_dict['b0'][0][0],result_dict['b1'][0][0],result_dict['b2'][0][0]]\n",
    "    if np_arr not in eq_list and np_arr!=[0,0,0]:\n",
    "        eq_list.append(np_arr)\n",
    "        no_of_equations -= 1\n",
    "    \n",
    "\n",
    "A = np.array((eq_list))\n",
    "A\n",
    "\n",
    "# The variable A contains the simulatneous equations extracted from the results from simulating the circuit"
   ]
  },
  {
   "cell_type": "code",
   "execution_count": 130,
   "metadata": {},
   "outputs": [
    {
     "data": {
      "text/plain": [
       "array([1., 0., 1.])"
      ]
     },
     "execution_count": 130,
     "metadata": {},
     "output_type": "execute_result"
    }
   ],
   "source": [
    "# Solving the equations simulateously\n",
    "\n",
    "A = np.array((eq_list))\n",
    "U, S, V = np.linalg.svd(A)\n",
    "null_space = V[-1, :]\n",
    "\n",
    "# Print the non-trivial solutions\n",
    "# Value of the unknown string\n",
    "s = abs(null_space.round())\n",
    "# Secret string s\n",
    "s\n"
   ]
  },
  {
   "cell_type": "code",
   "execution_count": null,
   "metadata": {},
   "outputs": [],
   "source": [
    "# The value of s is the same as the value given in the start"
   ]
  }
 ],
 "metadata": {
  "kernelspec": {
   "display_name": "Python 3",
   "language": "python",
   "name": "python3"
  },
  "language_info": {
   "codemirror_mode": {
    "name": "ipython",
    "version": 3
   },
   "file_extension": ".py",
   "mimetype": "text/x-python",
   "name": "python",
   "nbconvert_exporter": "python",
   "pygments_lexer": "ipython3",
   "version": "3.9.6"
  },
  "orig_nbformat": 4
 },
 "nbformat": 4,
 "nbformat_minor": 2
}
